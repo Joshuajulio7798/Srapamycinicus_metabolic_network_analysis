{
 "cells": [
  {
   "cell_type": "code",
   "execution_count": 19,
   "metadata": {},
   "outputs": [],
   "source": [
    "import cobra.test\n",
    "import cobra\n",
    "from cobra import Model, Reaction, Metabolite\n",
    "from cobra.flux_analysis import production_envelope, flux_variability_analysis, find_essential_reactions, find_essential_genes, pfba\n",
    "import cobra.test\n",
    "import os\n",
    "import pandas as pd\n",
    "import pickle\n",
    "import numpy as np"
   ]
  },
  {
   "cell_type": "code",
   "execution_count": 82,
   "metadata": {},
   "outputs": [],
   "source": [
    "WT_model = cobra.io.read_sbml_model(\"final_model/WT_model_final.xml\")\n",
    "HP_model = cobra.io.read_sbml_model(\"final_model/HP_model_final.xml\")"
   ]
  },
  {
   "cell_type": "markdown",
   "metadata": {},
   "source": [
    "<h3> pFBA simulation </h3>"
   ]
  },
  {
   "cell_type": "code",
   "execution_count": 5,
   "metadata": {},
   "outputs": [
    {
     "name": "stdout",
     "output_type": "stream",
     "text": [
      "0.03367854092035982\n",
      "0.03367854092035984\n",
      "38.64520778598939\n"
     ]
    }
   ],
   "source": [
    "model = cobra.io.read_sbml_model(\"final_model/WT_model_final.xml\")\n",
    "model.reactions.EX_glc__D_e.lower_bound = 0.0\n",
    "model.reactions.EX_glyc_e.lower_bound = -0.8\n",
    "model.reactions.DM_rap_c.lower_bound = 0.0005\n",
    "model.objective = model.reactions.BIOMASS_SCO\n",
    "solution = model.optimize()\n",
    "print(solution.objective_value)\n",
    "WT_pfba_solution = pfba(model)\n",
    "print(WT_pfba_solution.fluxes['BIOMASS_SCO'])\n",
    "print(WT_pfba_solution.objective_value)\n",
    "#WT_pfba_solution.fluxes.to_csv('outputs/WT_pfba_fluxes.csv')"
   ]
  },
  {
   "cell_type": "code",
   "execution_count": 15,
   "metadata": {},
   "outputs": [
    {
     "name": "stdout",
     "output_type": "stream",
     "text": [
      "0.022804391659545384\n",
      "0.022804391659545294\n",
      "37.88917595970602\n"
     ]
    }
   ],
   "source": [
    "model = cobra.io.read_sbml_model(\"final_model/HP_model_final.xml\")\n",
    "model.reactions.EX_glc__D_e.lower_bound = 0.0\n",
    "model.reactions.EX_glyc_e.lower_bound = -0.8\n",
    "model.reactions.DM_rap_c.lower_bound = 0.0020\n",
    "model.objective = model.reactions.BIOMASS_SCO\n",
    "solution = model.optimize()\n",
    "print(solution.objective_value)\n",
    "HP_pfba_solution = pfba(model)\n",
    "print(HP_pfba_solution.fluxes['BIOMASS_SCO'])\n",
    "print(HP_pfba_solution.objective_value)\n",
    "#HP_pfba_solution.fluxes.to_csv('outputs/HP_pfba_fluxes.csv')"
   ]
  },
  {
   "cell_type": "code",
   "execution_count": 16,
   "metadata": {},
   "outputs": [],
   "source": [
    "count = 0\n",
    "res = []\n",
    "model = cobra.io.read_sbml_model(\"final_model/WT_model_final.xml\")\n",
    "\n",
    "for k,v in HP_pfba_solution.fluxes.items():\n",
    "    HP_flux = v\n",
    "    WT_flux = WT_pfba_solution.fluxes[k]\n",
    "    \n",
    "    if abs(HP_flux) < 1e-10:\n",
    "        HP_flux = 0.0\n",
    "    if abs(WT_flux) < 1e-10:\n",
    "        WT_flux = 0.0\n",
    "    \n",
    "    '''\n",
    "    HP_biomass = HP_pfba_solution.fluxes['BIOMASS_SCO']\n",
    "    WT_biomass = WT_pfba_solution.fluxes['BIOMASS_SCO']\n",
    "    \n",
    "    norm_HP_flux = HP_flux/HP_biomass\n",
    "    norm_WT_flux = WT_flux/WT_biomass\n",
    "    \n",
    "    if norm_WT_flux != 0.0:\n",
    "        diff = abs(norm_HP_flux - norm_WT_flux)/norm_WT_flux\n",
    "    elif norm_HP_flux != 0.0:\n",
    "        diff = 1\n",
    "    else:\n",
    "        diff = 0\n",
    "        \n",
    "    if diff > 0.1:\n",
    "        res.append([norm_WT_flux, norm_HP_flux, diff, k, model.reactions.get_by_id(k).reaction])\n",
    "        count += 1\n",
    "    '''    \n",
    "    \n",
    "    diff = HP_flux - WT_flux\n",
    "    res.append([WT_flux, HP_flux, diff, k, model.reactions.get_by_id(k).reaction])\n",
    "    \n",
    "#print(count)\n",
    "df = pd.DataFrame(res, columns =['WT_flux', 'HP_flux', 'diff', 'rxn_id', 'rxn'], dtype = float)\n",
    "df\n",
    "df.to_csv('outputs/pfba_flux_comparison_abs.csv')"
   ]
  }
 ],
 "metadata": {
  "kernelspec": {
   "display_name": "gmsm",
   "language": "python",
   "name": "gmsm"
  },
  "language_info": {
   "codemirror_mode": {
    "name": "ipython",
    "version": 3
   },
   "file_extension": ".py",
   "mimetype": "text/x-python",
   "name": "python",
   "nbconvert_exporter": "python",
   "pygments_lexer": "ipython3",
   "version": "3.9.7"
  }
 },
 "nbformat": 4,
 "nbformat_minor": 4
}
